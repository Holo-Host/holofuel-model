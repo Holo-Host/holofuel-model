{
 "cells": [
  {
   "cell_type": "code",
   "execution_count": 1,
   "metadata": {},
   "outputs": [],
   "source": [
    "from collections import deque"
   ]
  },
  {
   "cell_type": "code",
   "execution_count": 2,
   "metadata": {},
   "outputs": [],
   "source": [
    "class ReserveAccount:\n",
    "    \"\"\"\n",
    "    The reserves_account class generates a reserves_account object for a specified currency pair\n",
    "    Reserves accounts are initialised with an order book that starts at ICO price unless otherwise specified, and a reserve balance of 0\n",
    "\n",
    "    Reserve accounts have 6 function calls:\n",
    "    - quote: returns the current marginal price and the order book volume at that price\n",
    "    - update_supply: changes the supply factor variable that determines the order book volume available at each price band\n",
    "    - issue: adds reserves to the reserve balance and subtracts corresponding orderbook volume\n",
    "    - retire: subtracts reserves from the reserve balance and adds corresponding orderbook volume\n",
    "    - refresh: refreshes the orderbook starting with the current price\n",
    "    - print_full_book: prints the entire order book and reserve LIFO book\n",
    "    \"\"\"\n",
    "\n",
    "    def __init__(self, currency_pair, supply_factor=1.0, start_price=0.0001, reserve_price=0.00005, reserve_balance=0.0, orderbook_len=5):\n",
    "        \"\"\"\n",
    "        :currency_pair  : the currency pair that Holo Fuel is traded against at this account\n",
    "        :supply_factor  : Each price tranch of the order book has a volume of supply_factor * 1,000,000 Fuel\n",
    "        :start_price    : the starting lowest price offered by the reserve order book denominated in {currency_pair}\n",
    "        :reserve_balance: sets the amount of {currency_pair} held in the reserve at start\n",
    "        :orderbook_len  : the number of tranches to maintain in the orderbook\n",
    "        \"\"\"\n",
    "\n",
    "        self.supply_factor = supply_factor # For P-D control over orderbook volumes\n",
    "        self.current_price = start_price\n",
    "        self.currency_pair = currency_pair\n",
    "        self.orderbook_len = orderbook_len\n",
    "\n",
    "        self.order_book_vol = deque(maxlen=self.orderbook_len)\n",
    "        self.order_book_price = deque(maxlen=self.orderbook_len)\n",
    "        self.reserves = deque() # Create reserve as double-ended queue and append tranches\n",
    "\n",
    "        self.refresh()\n",
    "        \n",
    "        retire_price = reserve_price\n",
    "        reserve_tranch = [retire_price, self.supply_factor * 1000000] # we keep vol and price together for reserves because unlike order book we can't shift one vs. the other\n",
    "        self.reserves.appendleft(reserve_tranch)\n",
    "        # The oldest price in the reserves will be on the right, and the newest will be on the left\n",
    "\n",
    "\n",
    "    def update_supply(self, new_supply_factor=None):\n",
    "        \"\"\"\n",
    "        This function is designed to rebuild the orderbook when changing the supply factor\n",
    "        It functions mostly like the original order book builder - starting with current price and adding higher price tranches at % intervals\n",
    "        A key difference is treatment of partial tranche volumes (i.e. where some volume has already been bought)\n",
    "        We will move the partial tranche volume to the current price, and scale it by the change in the supply factor\n",
    "        \"\"\"\n",
    "        old_supply_factor = self.supply_factor\n",
    "        if new_supply_factor is not None:\n",
    "            self.supply_factor = new_supply_factor\n",
    "\n",
    "        current_tranch_vol = self.order_book_vol[-1]\n",
    "\n",
    "        for ii in range(self.orderbook_len):\n",
    "            issue_price = self.current_price * (1 + ii/100) # Reserve tranches need increment in % of price, otherwise at higher prices you get ludicrous volumes available before meaningful price change\n",
    "            self.order_book_price.appendleft(issue_price)\n",
    "            if ii == 0:\n",
    "                self.order_book_vol.appendleft(self.supply_factor/old_supply_factor * current_tranch_vol)\n",
    "            else:\n",
    "                self.order_book_vol.appendleft(self.supply_factor * 1000000)\n",
    "\n",
    "\n",
    "    def quote(self, order_type):\n",
    "        \"\"\"\n",
    "        :order_type: 'buy' to buy fuel from reserve (issue) or 'sell' to sell and retire fuel at reserve\n",
    "        \"\"\"\n",
    "        if order_type == 'buy':\n",
    "            volume = self.order_book_vol[-1]\n",
    "            price = self.order_book_price[-1]\n",
    "\n",
    "        elif order_type == 'sell':\n",
    "            volume = self.reserves[0][1]\n",
    "            price = self.reserves[0][0]\n",
    "        else:\n",
    "            print('No order type specified. Please specify \"buy\" or \"sell\"')\n",
    "            return\n",
    "\n",
    "        return price, volume\n",
    "\n",
    "\n",
    "    def issue(self, volume):\n",
    "        \"\"\"\n",
    "        :volume: Volume of Fuel to be issued\n",
    "        \"\"\"\n",
    "        sum_orderbook_vol = sum(self.order_book_vol)\n",
    "\n",
    "        if volume > sum_orderbook_vol:\n",
    "            print(\"Volume exceeds total orderbook volume\")\n",
    "            return\n",
    "\n",
    "        # Update orderbook for purchases\n",
    "        while volume > 0:\n",
    "            quote_price, quote_vol = self.quote('buy')\n",
    "            self.current_price = quote_price\n",
    "            buy_vol = min(quote_vol, volume)\n",
    "            remainder = quote_vol - buy_vol\n",
    "\n",
    "            if remainder == 0:\n",
    "                self.order_book_vol.pop()\n",
    "                self.order_book_price.pop()\n",
    "            else:\n",
    "                self.order_book_vol[-1] = remainder\n",
    "            \n",
    "            if self.reserves[0][0] == self.current_price:\n",
    "                self.reserves[0][1] += buy_vol\n",
    "            else:\n",
    "                self.reserves.appendleft([self.current_price, buy_vol])\n",
    "\n",
    "            volume -= buy_vol\n",
    "\n",
    "        # add new tranches to replace bought ones\n",
    "        for ii in range(len(self.order_book_vol), self.orderbook_len):\n",
    "            self.order_book_price.appendleft(self.current_price * (1 + ii/100))\n",
    "            self.order_book_vol.appendleft(self.supply_factor * 1000000)\n",
    "\n",
    "\n",
    "    def retire(self, volume):\n",
    "        \"\"\"\n",
    "        :volume: Volume of Fuel to be retired\n",
    "        \"\"\"\n",
    "        sum_reserve_vol = sum([tranche[1] for tranche in self.reserves])\n",
    "\n",
    "        if volume > sum_reserve_vol:\n",
    "            print(\"Volume exceeds total reserve volume\")\n",
    "            return\n",
    "\n",
    "        # Update LIFO accounts\n",
    "        while volume > 0:\n",
    "            quote_price, quote_vol = self.quote('sell')\n",
    "            self.current_price = quote_price\n",
    "            sell_vol = min(quote_vol, volume)\n",
    "            remainder = quote_vol - sell_vol\n",
    "\n",
    "            if remainder == 0:\n",
    "                self.reserves.popleft()\n",
    "            else:\n",
    "                self.reserves[0] = [self.current_price, remainder]\n",
    "\n",
    "            # Add the retired volume to the order book\n",
    "            if self.order_book_price[-1] == self.current_price:\n",
    "                self.order_book_vol[-1] += sell_vol\n",
    "            else:\n",
    "                self.order_book_price.append(self.current_price)\n",
    "                self.order_book_vol.append(sell_vol)\n",
    "                \n",
    "            volume -= sell_vol\n",
    "    \n",
    "    def refresh(self):\n",
    "        self.order_book_price.clear()\n",
    "        self.order_book_vol.clear()\n",
    "        \n",
    "        for ii in range(self.orderbook_len):\n",
    "            issue_price = self.current_price * (1 + ii/100) # Reserve tranches need increment in % of price, otherwise at higher prices you get ludicrous volumes available before meaningful price change\n",
    "            self.order_book_price.appendleft(issue_price)\n",
    "            self.order_book_vol.appendleft(self.supply_factor * 1000000)\n",
    "            # The cheapest price in the order book will be on the right, and the most expensive will be on the left\n",
    "\n",
    "    def print_full_book(self):\n",
    "        for ii in range(len(self.order_book_vol)):\n",
    "            print(\"Issue: {} Fuel @ Price of {:.5f} {}\".format(self.order_book_vol[ii], self.order_book_price[ii], self.currency_pair))\n",
    "\n",
    "        print(\"===============================================\")\n",
    "\n",
    "        for ii in range(len(self.reserves)):\n",
    "            print(\"Buy-Back: {} Fuel @ Price of {:.5f} {}\".format(self.reserves[ii][1], self.reserves[ii][0], self.currency_pair))"
   ]
  },
  {
   "cell_type": "code",
   "execution_count": 3,
   "metadata": {},
   "outputs": [],
   "source": [
    "ETH_USD_price = 400\n",
    "FUEL_USD_price = 0.001\n",
    "FUEL_ETH_price = FUEL_USD_price / ETH_USD_price\n",
    "\n",
    "\n",
    "# Create 2 reserves\n",
    "USD_reserve = ReserveAccount(currency_pair='USD',start_price=FUEL_USD_price, reserve_price=FUEL_USD_price*0.99)\n",
    "ETH_reserve = ReserveAccount(currency_pair='ETH',start_price=FUEL_ETH_price, reserve_price=FUEL_ETH_price*0.99)"
   ]
  },
  {
   "cell_type": "markdown",
   "metadata": {},
   "source": [
    "### Check reserve class works"
   ]
  },
  {
   "cell_type": "code",
   "execution_count": 4,
   "metadata": {},
   "outputs": [
    {
     "name": "stdout",
     "output_type": "stream",
     "text": [
      "Issue: 1000000.0 Fuel @ Price of 0.00104 USD\n",
      "Issue: 1000000.0 Fuel @ Price of 0.00103 USD\n",
      "Issue: 1000000.0 Fuel @ Price of 0.00102 USD\n",
      "Issue: 1000000.0 Fuel @ Price of 0.00101 USD\n",
      "Issue: 1000000.0 Fuel @ Price of 0.00100 USD\n",
      "===============================================\n",
      "Buy-Back: 1000000.0 Fuel @ Price of 0.00099 USD\n"
     ]
    }
   ],
   "source": [
    "# Check 1: Does the reserve have an order book and LIFO \n",
    "USD_reserve.print_full_book()"
   ]
  },
  {
   "cell_type": "code",
   "execution_count": 5,
   "metadata": {},
   "outputs": [],
   "source": [
    "# Check 2: If we buy and sell the same amount but in different individual orders we return to the original order book\n",
    "USD_reserve.issue(5000)\n",
    "USD_reserve.issue(2100000)\n",
    "USD_reserve.retire(1100000)\n",
    "USD_reserve.retire(1000000)\n",
    "USD_reserve.retire(5000)"
   ]
  },
  {
   "cell_type": "code",
   "execution_count": 6,
   "metadata": {},
   "outputs": [
    {
     "name": "stdout",
     "output_type": "stream",
     "text": [
      "Issue: 1000000.0 Fuel @ Price of 0.00104 USD\n",
      "Issue: 1000000.0 Fuel @ Price of 0.00103 USD\n",
      "Issue: 1000000.0 Fuel @ Price of 0.00102 USD\n",
      "Issue: 1000000.0 Fuel @ Price of 0.00101 USD\n",
      "Issue: 1000000.0 Fuel @ Price of 0.00100 USD\n",
      "===============================================\n",
      "Buy-Back: 1000000.0 Fuel @ Price of 0.00099 USD\n"
     ]
    }
   ],
   "source": [
    "USD_reserve.print_full_book()"
   ]
  },
  {
   "cell_type": "code",
   "execution_count": 7,
   "metadata": {},
   "outputs": [
    {
     "name": "stdout",
     "output_type": "stream",
     "text": [
      "Issue: 2000000 Fuel @ Price of 0.00104 USD\n",
      "Issue: 2000000 Fuel @ Price of 0.00103 USD\n",
      "Issue: 2000000 Fuel @ Price of 0.00102 USD\n",
      "Issue: 2000000 Fuel @ Price of 0.00101 USD\n",
      "Issue: 2000000.0 Fuel @ Price of 0.00100 USD\n",
      "===============================================\n",
      "Buy-Back: 1000000.0 Fuel @ Price of 0.00099 USD\n"
     ]
    }
   ],
   "source": [
    "# Check 3: Does doubling the supply factor double the order book volume while keeping it constant\n",
    "USD_reserve.update_supply(new_supply_factor=2)\n",
    "USD_reserve.print_full_book()"
   ]
  },
  {
   "cell_type": "code",
   "execution_count": 8,
   "metadata": {},
   "outputs": [
    {
     "name": "stdout",
     "output_type": "stream",
     "text": [
      "Issue: 2000000 Fuel @ Price of 0.00104 USD\n",
      "Issue: 2000000 Fuel @ Price of 0.00103 USD\n",
      "Issue: 2000000 Fuel @ Price of 0.00102 USD\n",
      "Issue: 2000000 Fuel @ Price of 0.00101 USD\n",
      "Issue: 2000000.0 Fuel @ Price of 0.00100 USD\n",
      "===============================================\n",
      "Buy-Back: 1000000.0 Fuel @ Price of 0.00099 USD\n"
     ]
    }
   ],
   "source": [
    "# Check 4: If we keep the supply factor static and repeatedly update supply it should do nothing\n",
    "USD_reserve.update_supply(new_supply_factor=2)\n",
    "USD_reserve.update_supply(new_supply_factor=2)\n",
    "USD_reserve.update_supply(new_supply_factor=2)\n",
    "USD_reserve.update_supply(new_supply_factor=2)\n",
    "USD_reserve.update_supply(new_supply_factor=2)\n",
    "USD_reserve.update_supply(new_supply_factor=2)\n",
    "USD_reserve.update_supply(new_supply_factor=2)\n",
    "USD_reserve.update_supply(new_supply_factor=2)\n",
    "USD_reserve.print_full_book()"
   ]
  }
 ],
 "metadata": {
  "kernelspec": {
   "display_name": "Python 3",
   "language": "python",
   "name": "python3"
  },
  "language_info": {
   "codemirror_mode": {
    "name": "ipython",
    "version": 3
   },
   "file_extension": ".py",
   "mimetype": "text/x-python",
   "name": "python",
   "nbconvert_exporter": "python",
   "pygments_lexer": "ipython3",
   "version": "3.6.5"
  }
 },
 "nbformat": 4,
 "nbformat_minor": 2
}
